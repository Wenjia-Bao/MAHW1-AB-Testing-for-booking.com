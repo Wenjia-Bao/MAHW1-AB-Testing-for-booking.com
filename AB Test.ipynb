{
 "cells": [
  {
   "cell_type": "code",
   "execution_count": 1,
   "metadata": {},
   "outputs": [],
   "source": [
    "import pandas as pd\n",
    "import numpy as np\n",
    "from scipy import stats\n",
    "from sklearn.utils import resample\n",
    "import scipy.stats as st\n",
    "\n",
    "import random\n",
    "import seaborn as sns\n",
    "import matplotlib.pylab as plt\n",
    "\n",
    "import statsmodels.api as sm\n",
    "import math\n",
    "from math import log"
   ]
  },
  {
   "cell_type": "code",
   "execution_count": 2,
   "metadata": {},
   "outputs": [],
   "source": [
    "df = pd.read_csv('AB_test_data.csv')"
   ]
  },
  {
   "cell_type": "markdown",
   "metadata": {},
   "source": [
    "# 1"
   ]
  },
  {
   "cell_type": "code",
   "execution_count": 3,
   "metadata": {},
   "outputs": [],
   "source": [
    "df.loc[df['purchase_TF']==False,'tf']=0\n",
    "df.loc[df['purchase_TF']==True,'tf']=1"
   ]
  },
  {
   "cell_type": "code",
   "execution_count": 4,
   "metadata": {},
   "outputs": [],
   "source": [
    "df.drop(columns=['purchase_TF','date','id'],inplace=True)"
   ]
  },
  {
   "cell_type": "code",
   "execution_count": 5,
   "metadata": {},
   "outputs": [],
   "source": [
    "df_A = df[df.Variant=='A']\n",
    "df_B = df[df.Variant=='B']"
   ]
  },
  {
   "cell_type": "code",
   "execution_count": 6,
   "metadata": {},
   "outputs": [],
   "source": [
    "size_A = df_A.shape[0]\n",
    "size_B = df_B.shape[0]"
   ]
  },
  {
   "cell_type": "code",
   "execution_count": 7,
   "metadata": {},
   "outputs": [],
   "source": [
    "con_rate_A = df_A.tf.mean()\n",
    "con_rate_B = df_B.tf.mean()"
   ]
  },
  {
   "cell_type": "code",
   "execution_count": 8,
   "metadata": {},
   "outputs": [
    {
     "data": {
      "text/plain": [
       "0.149616"
      ]
     },
     "execution_count": 8,
     "metadata": {},
     "output_type": "execute_result"
    }
   ],
   "source": [
    "con_rate_A"
   ]
  },
  {
   "cell_type": "code",
   "execution_count": 9,
   "metadata": {},
   "outputs": [
    {
     "data": {
      "text/plain": [
       "0.1766"
      ]
     },
     "execution_count": 9,
     "metadata": {},
     "output_type": "execute_result"
    }
   ],
   "source": [
    "con_rate_B"
   ]
  },
  {
   "cell_type": "code",
   "execution_count": 10,
   "metadata": {},
   "outputs": [
    {
     "data": {
      "text/plain": [
       "-0.026984000000000008"
      ]
     },
     "execution_count": 10,
     "metadata": {},
     "output_type": "execute_result"
    }
   ],
   "source": [
    "con_rate_A-con_rate_B"
   ]
  },
  {
   "cell_type": "code",
   "execution_count": 11,
   "metadata": {},
   "outputs": [],
   "source": [
    "std_A = np.std(df_A.tf)"
   ]
  },
  {
   "cell_type": "markdown",
   "metadata": {},
   "source": [
    "H0:μ1<=μ0 ; H1:μ1>μ0"
   ]
  },
  {
   "cell_type": "code",
   "execution_count": 12,
   "metadata": {},
   "outputs": [
    {
     "data": {
      "text/plain": [
       "5.349273094732516"
      ]
     },
     "execution_count": 12,
     "metadata": {},
     "output_type": "execute_result"
    }
   ],
   "source": [
    "z = (con_rate_B-con_rate_A)/(math.sqrt(con_rate_A*(1-con_rate_A)/size_B))\n",
    "z"
   ]
  },
  {
   "cell_type": "code",
   "execution_count": 13,
   "metadata": {},
   "outputs": [
    {
     "data": {
      "text/plain": [
       "1.6448536269514722"
      ]
     },
     "execution_count": 13,
     "metadata": {},
     "output_type": "execute_result"
    }
   ],
   "source": [
    "st.norm.ppf(0.95)"
   ]
  },
  {
   "cell_type": "markdown",
   "metadata": {},
   "source": [
    "z is bigger than 1.6448, so reject H0.  Alternative B improved conversion rates over alternative A."
   ]
  },
  {
   "cell_type": "markdown",
   "metadata": {},
   "source": [
    "# 2"
   ]
  },
  {
   "cell_type": "code",
   "execution_count": 14,
   "metadata": {},
   "outputs": [
    {
     "data": {
      "text/plain": [
       "2317"
      ]
     },
     "execution_count": 14,
     "metadata": {},
     "output_type": "execute_result"
    }
   ],
   "source": [
    "delta = con_rate_B-con_rate_A\n",
    "con_rate_avg = (con_rate_A+con_rate_B)/2\n",
    "sample_size = (st.norm.ppf(0.05)*\\\n",
    "     math.sqrt(2*con_rate_avg*(1-con_rate_avg))+\\\n",
    "     st.norm.ppf(0.2)*math.sqrt(con_rate_A*(1-con_rate_A)+con_rate_B*(1-con_rate_B)))**2/\\\n",
    "    (delta)**2\n",
    "sample_size = int(sample_size)\n",
    "sample_size"
   ]
  },
  {
   "cell_type": "code",
   "execution_count": 15,
   "metadata": {},
   "outputs": [],
   "source": [
    "# sample_size = (con_rate_A*(1-con_rate_A)+con_rate_B*(1-con_rate_B))*\\\n",
    "#     ((st.norm.ppf(0.05)+st.norm.ppf(0.2))**2)/(delta)**2\n",
    "# sample_size = int(sample_size)\n",
    "# sample_size"
   ]
  },
  {
   "cell_type": "code",
   "execution_count": 31,
   "metadata": {},
   "outputs": [
    {
     "name": "stdout",
     "output_type": "stream",
     "text": [
      "1 )  2.5240484182121445e-05\n",
      "2 )  0.0004747017670236977\n",
      "3 )  2.4245054256464644e-06\n",
      "4 )  4.1031749584733985e-05\n",
      "5 )  3.1854872636766513e-06\n",
      "6 )  0.0005820553450660916\n",
      "7 )  0.00025275472469747423\n",
      "8 )  4.172065503287491e-06\n",
      "9 )  1.800992029764702e-07\n",
      "10 )  0.0012755815648992383\n"
     ]
    }
   ],
   "source": [
    "#p-value\n",
    "sample=[]\n",
    "for i in range(10):\n",
    "    s = df_B.sample(n=sample_size,axis=0)\n",
    "    sample.append(s)\n",
    "    pvalue = sm.stats.ztest(df_A.tf, sample[i].tf,alternative='smaller')[1]\n",
    "    print(i+1,\") \",pvalue)"
   ]
  },
  {
   "cell_type": "code",
   "execution_count": 32,
   "metadata": {},
   "outputs": [
    {
     "name": "stdout",
     "output_type": "stream",
     "text": [
      "1 )  4.096765520541687\n",
      "2 )  3.3396122974436118\n",
      "3 )  4.620948521148044\n",
      "4 )  3.980280409295828\n",
      "5 )  4.562705965525119\n",
      "6 )  3.281369741820682\n",
      "7 )  3.5143399643123963\n",
      "8 )  4.504463409902189\n",
      "9 )  5.145131521754405\n",
      "10 )  3.048399519328968\n"
     ]
    }
   ],
   "source": [
    "#z-score\n",
    "z_score = []\n",
    "for i in range(10):\n",
    "    sample_mean = sample[i].tf.mean()\n",
    "    z = (sample_mean-con_rate_A)/(math.sqrt(con_rate_A*(1-con_rate_A)/sample_size))\n",
    "    z_score.append(z)\n",
    "    print(i+1,\") \",z)"
   ]
  },
  {
   "cell_type": "markdown",
   "metadata": {},
   "source": [
    "All of the z-scores are larger than 1.6448, so reject H0. \n",
    "\n",
    "Alternative B improved conversion rates over alternative A."
   ]
  },
  {
   "cell_type": "markdown",
   "metadata": {},
   "source": [
    "# 3"
   ]
  },
  {
   "cell_type": "markdown",
   "metadata": {},
   "source": [
    "H0: The conversion rate of Varient B is 0.149616\n",
    "\n",
    "H1: The conversion rate of Varient B is 0.1766"
   ]
  },
  {
   "cell_type": "code",
   "execution_count": 20,
   "metadata": {},
   "outputs": [],
   "source": [
    "ln_A = log(1/0.05)\n",
    "ln_B = log(0.2)"
   ]
  },
  {
   "cell_type": "code",
   "execution_count": 33,
   "metadata": {},
   "outputs": [
    {
     "name": "stdout",
     "output_type": "stream",
     "text": [
      "For sample 1 , accept H1 and itertaion is  604 . ln(lambda_n) is 3.026851602807017\n",
      "For sample 2 , accept H1 and itertaion is  996 . ln(lambda_n) is 3.0881627700134784\n",
      "For sample 3 , accept H1 and itertaion is  606 . ln(lambda_n) is 3.0262389104746967\n",
      "For sample 4 , accept H1 and itertaion is  430 . ln(lambda_n) is 3.1158223529584452\n",
      "For sample 5 , accept H1 and itertaion is  1045 . ln(lambda_n) is 3.0454422075062877\n",
      "For sample 6 , accept H1 and itertaion is  1822 . ln(lambda_n) is 2.998749833154736\n",
      "For sample 7 , accept H1 and itertaion is  425 . ln(lambda_n) is 3.06484346658622\n",
      "For sample 8 , accept H1 and itertaion is  747 . ln(lambda_n) is 3.163888224254192\n",
      "For sample 9 , accept H1 and itertaion is  343 . ln(lambda_n) is 3.0944165326526285\n",
      "For sample 10 , accept H1 and itertaion is  1724 . ln(lambda_n) is 3.008797006936828\n"
     ]
    }
   ],
   "source": [
    "iteration = []\n",
    "for i in range(10):\n",
    "    lambda_n = 0\n",
    "    n = 0\n",
    "    for j in range(sample_size):\n",
    "        mean_A = df_A.tf.mean()\n",
    "        mean_sample = sample[i].tf.mean()\n",
    "        lambda_0 = log((1-mean_sample)/(1-mean_A))\n",
    "        lambda_1 = log((mean_sample)/(mean_A))\n",
    "        if sample[i].iloc[j,1] == 1:\n",
    "            lambda_n = lambda_n + lambda_1\n",
    "        else:\n",
    "            lambda_n = lambda_n + lambda_0\n",
    "        if lambda_n > ln_B and lambda_n < ln_A:\n",
    "            n = n+1\n",
    "        elif lambda_n <= ln_B:\n",
    "            print('For sample',i+1,', accept H0 and itertaion is ',n+1,'. ln(lambda_n) is',lambda_n)\n",
    "            iteration.append(n)\n",
    "            break\n",
    "        elif lambda_n >= ln_A:\n",
    "            print('For sample',i+1,', accept H1 and itertaion is ',n+1,'. ln(lambda_n) is',lambda_n)\n",
    "            iteration.append(n)\n",
    "            break"
   ]
  },
  {
   "cell_type": "code",
   "execution_count": 34,
   "metadata": {},
   "outputs": [
    {
     "data": {
      "text/plain": [
       "873.2"
      ]
     },
     "execution_count": 34,
     "metadata": {},
     "output_type": "execute_result"
    }
   ],
   "source": [
    "np.mean(iteration)"
   ]
  },
  {
   "cell_type": "code",
   "execution_count": 35,
   "metadata": {},
   "outputs": [
    {
     "data": {
      "text/plain": [
       "[603, 995, 605, 429, 1044, 1821, 424, 746, 342, 1723]"
      ]
     },
     "execution_count": 35,
     "metadata": {},
     "output_type": "execute_result"
    }
   ],
   "source": [
    "iteration"
   ]
  },
  {
   "cell_type": "code",
   "execution_count": null,
   "metadata": {},
   "outputs": [],
   "source": []
  },
  {
   "cell_type": "code",
   "execution_count": null,
   "metadata": {},
   "outputs": [],
   "source": []
  }
 ],
 "metadata": {
  "kernelspec": {
   "display_name": "Python 3",
   "language": "python",
   "name": "python3"
  },
  "language_info": {
   "codemirror_mode": {
    "name": "ipython",
    "version": 3
   },
   "file_extension": ".py",
   "mimetype": "text/x-python",
   "name": "python",
   "nbconvert_exporter": "python",
   "pygments_lexer": "ipython3",
   "version": "3.8.5"
  }
 },
 "nbformat": 4,
 "nbformat_minor": 4
}
